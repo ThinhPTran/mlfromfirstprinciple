{
 "cells": [
  {
   "cell_type": "code",
   "execution_count": 30,
   "id": "eba0e9a6-4bb4-440f-b185-511c4718ec6b",
   "metadata": {},
   "outputs": [],
   "source": [
    "import numpy as np\n",
    "from typing import List, Dict, Tuple"
   ]
  },
  {
   "cell_type": "code",
   "execution_count": 31,
   "id": "86f83a6f-c051-4bb6-9261-f782f7ce2464",
   "metadata": {},
   "outputs": [],
   "source": [
    "def forward_linear_regression(X_batch: np.ndarray, \n",
    "                              y_batch: np.ndarray,\n",
    "                              weights: Dict[str, np.ndarray]) -> Tuple[float, Dict[str, np.ndarray]]:\n",
    "    # assert batch sizes of X and y are equal\n",
    "    assert X_batch.shape[0] == y_batch.shape[0]\n",
    "\n",
    "    # assert the matrix muplication can work\n",
    "    assert X_batch.shape[1] == weighs['W'].shape[0]\n",
    "\n",
    "    # assert that B is simply a 1x1 ndarray\n",
    "    assert weights['B'].shape[0] == weights['B'].shape[1] == 1\n",
    "\n",
    "    # compute the operations on the forward pass\n",
    "    N = np.dot(X_batch, weights['W'])\n",
    "\n",
    "    P = N + weights['B']\n",
    "\n",
    "    loss = np.mean(np.power(y_batch - P, 2))\n",
    "\n",
    "    # save the information computed on the forward pass\n",
    "    forward_info: Dict[str, ndarray] = {}\n",
    "    forward_info['X'] = X_batch\n",
    "    forward_info['N'] = N\n",
    "    forward_info['P'] = P\n",
    "    forward_info['y'] = y_batch   \n",
    "\n",
    "    return loss, forward_info                              \n",
    "                                  "
   ]
  },
  {
   "cell_type": "code",
   "execution_count": 34,
   "id": "237a3b97-6007-4fda-8ed9-d5491e796afd",
   "metadata": {},
   "outputs": [],
   "source": [
    "def loss_gradients(forward_info: Dict[str, np.ndarray],\n",
    "                    weights: Dict[str, np.ndarray]) -> Dict[str, np.ndarray]:\n",
    "    '''\n",
    "    Compute dLdW and dLdB for the step-by-step linear regression model. '''\n",
    "    batch_size = forward_info['X'].shape[0]\n",
    "    dLdP = -2 * (forward_info['y'] - forward_info['P'])\n",
    "    dPdN = np.ones_like(forward_info['N'])\n",
    "    dPdB = np.ones_like(weights['B'])\n",
    "    dLdN = dLdP * dPdN\n",
    "    dNdW = np.transpose(forward_info['X'], (1, 0))\n",
    "\n",
    "    dLdW = np.dot(dNdW, dLdN)\n",
    "    # need to sum along dimension representing the batch size # (see note near the end of this chapter)\n",
    "    dLdB = (dLdP * dPdB).sum(axis=0)\n",
    "        \n",
    "    loss_gradients: Dict[str, ndarray] = {}\n",
    "    loss_gradients['W'] = dLdW\n",
    "    loss_gradients['B'] = dLdB\n",
    "    return loss_gradients"
   ]
  },
  {
   "cell_type": "code",
   "execution_count": 6,
   "id": "f48c23c5-7031-4a52-ba31-e405a2af0a69",
   "metadata": {},
   "outputs": [
    {
     "data": {
      "text/plain": [
       "2"
      ]
     },
     "execution_count": 6,
     "metadata": {},
     "output_type": "execute_result"
    }
   ],
   "source": [
    "a.shape[0]"
   ]
  },
  {
   "cell_type": "code",
   "execution_count": 7,
   "id": "f57d549f-f1c3-40b5-8e34-1c5acc0b85b3",
   "metadata": {},
   "outputs": [
    {
     "name": "stdout",
     "output_type": "stream",
     "text": [
      "[[2 3 4]\n",
      " [5 6 7]]\n"
     ]
    }
   ],
   "source": [
    "print(a)"
   ]
  },
  {
   "cell_type": "code",
   "execution_count": 17,
   "id": "a4e147dd-8497-4059-beb5-acf1df0f2c53",
   "metadata": {},
   "outputs": [
    {
     "data": {
      "text/plain": [
       "numpy.ndarray"
      ]
     },
     "execution_count": 17,
     "metadata": {},
     "output_type": "execute_result"
    }
   ],
   "source": [
    "type(a)"
   ]
  },
  {
   "cell_type": "code",
   "execution_count": null,
   "id": "81c35c99-8ae3-4b61-9983-d19d6bab9363",
   "metadata": {},
   "outputs": [],
   "source": []
  }
 ],
 "metadata": {
  "kernelspec": {
   "display_name": "Python 3 (ipykernel)",
   "language": "python",
   "name": "python3"
  },
  "language_info": {
   "codemirror_mode": {
    "name": "ipython",
    "version": 3
   },
   "file_extension": ".py",
   "mimetype": "text/x-python",
   "name": "python",
   "nbconvert_exporter": "python",
   "pygments_lexer": "ipython3",
   "version": "3.12.2"
  }
 },
 "nbformat": 4,
 "nbformat_minor": 5
}
